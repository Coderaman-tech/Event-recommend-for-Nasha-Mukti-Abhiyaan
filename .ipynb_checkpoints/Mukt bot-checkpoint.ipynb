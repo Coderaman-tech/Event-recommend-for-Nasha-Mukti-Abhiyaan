{
 "cells": [
  {
   "cell_type": "code",
   "execution_count": 1,
   "metadata": {},
   "outputs": [
    {
     "name": "stdout",
     "output_type": "stream",
     "text": [
      "Requirement already satisfied: nltk in c:\\users\\aman shrivastava\\anaconda3\\lib\\site-packages (3.5)\n",
      "Requirement already satisfied: tqdm in c:\\users\\aman shrivastava\\anaconda3\\lib\\site-packages (from nltk) (4.50.2)\n",
      "Requirement already satisfied: regex in c:\\users\\aman shrivastava\\anaconda3\\lib\\site-packages (from nltk) (2020.10.15)\n",
      "Requirement already satisfied: joblib in c:\\users\\aman shrivastava\\anaconda3\\lib\\site-packages (from nltk) (0.17.0)\n",
      "Requirement already satisfied: click in c:\\users\\aman shrivastava\\anaconda3\\lib\\site-packages (from nltk) (7.1.2)\n"
     ]
    },
    {
     "name": "stderr",
     "output_type": "stream",
     "text": [
      "WARNING: Ignoring invalid distribution -ymongo (c:\\users\\aman shrivastava\\anaconda3\\lib\\site-packages)\n",
      "WARNING: Ignoring invalid distribution -ymongo (c:\\users\\aman shrivastava\\anaconda3\\lib\\site-packages)\n",
      "WARNING: Ignoring invalid distribution -ymongo (c:\\users\\aman shrivastava\\anaconda3\\lib\\site-packages)\n",
      "WARNING: Ignoring invalid distribution -ymongo (c:\\users\\aman shrivastava\\anaconda3\\lib\\site-packages)\n",
      "WARNING: Ignoring invalid distribution -ymongo (c:\\users\\aman shrivastava\\anaconda3\\lib\\site-packages)\n",
      "WARNING: Ignoring invalid distribution -ymongo (c:\\users\\aman shrivastava\\anaconda3\\lib\\site-packages)\n",
      "WARNING: There was an error checking the latest version of pip.\n"
     ]
    }
   ],
   "source": [
    "!pip install nltk"
   ]
  },
  {
   "cell_type": "code",
   "execution_count": null,
   "metadata": {},
   "outputs": [],
   "source": []
  },
  {
   "cell_type": "code",
   "execution_count": 2,
   "metadata": {},
   "outputs": [
    {
     "name": "stdout",
     "output_type": "stream",
     "text": [
      "Requirement already satisfied: newspaper3k in c:\\users\\aman shrivastava\\anaconda3\\lib\\site-packages (0.2.8)\n",
      "Requirement already satisfied: beautifulsoup4>=4.4.1 in c:\\users\\aman shrivastava\\anaconda3\\lib\\site-packages (from newspaper3k) (4.9.3)\n",
      "Requirement already satisfied: cssselect>=0.9.2 in c:\\users\\aman shrivastava\\anaconda3\\lib\\site-packages (from newspaper3k) (1.1.0)\n",
      "Requirement already satisfied: requests>=2.10.0 in c:\\users\\aman shrivastava\\anaconda3\\lib\\site-packages (from newspaper3k) (2.24.0)\n",
      "Requirement already satisfied: PyYAML>=3.11 in c:\\users\\aman shrivastava\\anaconda3\\lib\\site-packages (from newspaper3k) (5.3.1)\n",
      "Requirement already satisfied: tldextract>=2.0.1 in c:\\users\\aman shrivastava\\anaconda3\\lib\\site-packages (from newspaper3k) (3.3.1)\n",
      "Requirement already satisfied: feedparser>=5.2.1 in c:\\users\\aman shrivastava\\anaconda3\\lib\\site-packages (from newspaper3k) (6.0.10)\n",
      "Requirement already satisfied: feedfinder2>=0.0.4 in c:\\users\\aman shrivastava\\anaconda3\\lib\\site-packages (from newspaper3k) (0.0.4)\n",
      "Requirement already satisfied: jieba3k>=0.35.1 in c:\\users\\aman shrivastava\\anaconda3\\lib\\site-packages (from newspaper3k) (0.35.1)\n",
      "Requirement already satisfied: Pillow>=3.3.0 in c:\\users\\aman shrivastava\\anaconda3\\lib\\site-packages (from newspaper3k) (9.1.1)\n",
      "Requirement already satisfied: tinysegmenter==0.3 in c:\\users\\aman shrivastava\\anaconda3\\lib\\site-packages (from newspaper3k) (0.3)\n",
      "Requirement already satisfied: python-dateutil>=2.5.3 in c:\\users\\aman shrivastava\\anaconda3\\lib\\site-packages (from newspaper3k) (2.8.1)\n",
      "Requirement already satisfied: nltk>=3.2.1 in c:\\users\\aman shrivastava\\anaconda3\\lib\\site-packages (from newspaper3k) (3.5)\n",
      "Requirement already satisfied: lxml>=3.6.0 in c:\\users\\aman shrivastava\\anaconda3\\lib\\site-packages (from newspaper3k) (4.6.1)\n",
      "Requirement already satisfied: soupsieve>1.2 in c:\\users\\aman shrivastava\\anaconda3\\lib\\site-packages (from beautifulsoup4>=4.4.1->newspaper3k) (2.0.1)\n",
      "Requirement already satisfied: six in c:\\users\\aman shrivastava\\anaconda3\\lib\\site-packages (from feedfinder2>=0.0.4->newspaper3k) (1.15.0)\n",
      "Requirement already satisfied: sgmllib3k in c:\\users\\aman shrivastava\\anaconda3\\lib\\site-packages (from feedparser>=5.2.1->newspaper3k) (1.0.0)\n",
      "Requirement already satisfied: joblib in c:\\users\\aman shrivastava\\anaconda3\\lib\\site-packages (from nltk>=3.2.1->newspaper3k) (0.17.0)\n",
      "Requirement already satisfied: tqdm in c:\\users\\aman shrivastava\\anaconda3\\lib\\site-packages (from nltk>=3.2.1->newspaper3k) (4.50.2)\n",
      "Requirement already satisfied: regex in c:\\users\\aman shrivastava\\anaconda3\\lib\\site-packages (from nltk>=3.2.1->newspaper3k) (2020.10.15)\n",
      "Requirement already satisfied: click in c:\\users\\aman shrivastava\\anaconda3\\lib\\site-packages (from nltk>=3.2.1->newspaper3k) (7.1.2)\n",
      "Requirement already satisfied: idna<3,>=2.5 in c:\\users\\aman shrivastava\\anaconda3\\lib\\site-packages (from requests>=2.10.0->newspaper3k) (2.10)\n",
      "Requirement already satisfied: chardet<4,>=3.0.2 in c:\\users\\aman shrivastava\\anaconda3\\lib\\site-packages (from requests>=2.10.0->newspaper3k) (3.0.4)\n",
      "Requirement already satisfied: certifi>=2017.4.17 in c:\\users\\aman shrivastava\\anaconda3\\lib\\site-packages (from requests>=2.10.0->newspaper3k) (2020.6.20)\n",
      "Requirement already satisfied: urllib3!=1.25.0,!=1.25.1,<1.26,>=1.21.1 in c:\\users\\aman shrivastava\\anaconda3\\lib\\site-packages (from requests>=2.10.0->newspaper3k) (1.25.11)\n",
      "Requirement already satisfied: filelock>=3.0.8 in c:\\users\\aman shrivastava\\anaconda3\\lib\\site-packages (from tldextract>=2.0.1->newspaper3k) (3.0.12)\n",
      "Requirement already satisfied: requests-file>=1.4 in c:\\users\\aman shrivastava\\anaconda3\\lib\\site-packages (from tldextract>=2.0.1->newspaper3k) (1.5.1)\n"
     ]
    },
    {
     "name": "stderr",
     "output_type": "stream",
     "text": [
      "WARNING: Ignoring invalid distribution -ymongo (c:\\users\\aman shrivastava\\anaconda3\\lib\\site-packages)\n",
      "WARNING: Ignoring invalid distribution -ymongo (c:\\users\\aman shrivastava\\anaconda3\\lib\\site-packages)\n",
      "WARNING: Ignoring invalid distribution -ymongo (c:\\users\\aman shrivastava\\anaconda3\\lib\\site-packages)\n",
      "WARNING: Ignoring invalid distribution -ymongo (c:\\users\\aman shrivastava\\anaconda3\\lib\\site-packages)\n",
      "WARNING: Ignoring invalid distribution -ymongo (c:\\users\\aman shrivastava\\anaconda3\\lib\\site-packages)\n",
      "WARNING: Ignoring invalid distribution -ymongo (c:\\users\\aman shrivastava\\anaconda3\\lib\\site-packages)\n",
      "WARNING: There was an error checking the latest version of pip.\n"
     ]
    }
   ],
   "source": [
    "!pip install newspaper3k"
   ]
  },
  {
   "cell_type": "code",
   "execution_count": 15,
   "metadata": {},
   "outputs": [],
   "source": [
    "#import the packages\n",
    "from newspaper import Article\n",
    "import random\n",
    "import string\n",
    "import numpy as np\n",
    "import warnings\n",
    "import nltk\n",
    "from sklearn.feature_extraction.text import CountVectorizer\n",
    "from sklearn.metrics.pairwise import cosine_similarity\n",
    "warnings.filterwarnings('ignore')"
   ]
  },
  {
   "cell_type": "code",
   "execution_count": 6,
   "metadata": {},
   "outputs": [
    {
     "data": {
      "text/plain": [
       "True"
      ]
     },
     "execution_count": 6,
     "metadata": {},
     "output_type": "execute_result"
    }
   ],
   "source": [
    "nltk.download('punkt',quiet=True)\n",
    "nltk.download('wordnet',quiet=True)"
   ]
  },
  {
   "cell_type": "code",
   "execution_count": 51,
   "metadata": {},
   "outputs": [
    {
     "name": "stdout",
     "output_type": "stream",
     "text": [
      "The Minister for Social Justice & Empowerment Shri Thawaarchand Gehlot launched the website for the Nasha Mukt Bharat Abhiyaan (NMBA) on the occasion of International Day Against Drug Abuse and Illicit Trafficking on 26 June 2021, which is observed worldwide to strengthen action and cooperation in achieving the goal of a sustainable world free of substance abuse. The entire world is facing the menace of drug addiction which has a devastating impact on the addict, individual, family and a large section of society.\n",
      "\n",
      "The launch of Nasha Mukt Bharat Abhiyaan (NMBA) is for 272 Districts across 32 State/Union Territories that have been identified as the most vulnerable in terms of usage of drugs in the country. These vulnerable districts were identified on the basis of findings from the Comprehensive National Survey and the inputs provided by the Narcotics Control Bureau (NCB). According to the National Comprehensive Survey conducted by the Ministry of Social Justice and Empowerment, there are more than 60 million drug users in the country of which a large number of users are in the age group of 10-17 years.\n",
      "\n",
      "Objectives\n",
      "\n",
      "Nasha Mukt Bharat Abhiyaan intends to reach out to the masses and spread awareness about substance abuse through various activities like:\n",
      "\n",
      "Awareness generation programmes\n",
      "\n",
      "Focus on higher educational Institutions, university campuses and schools\n",
      "\n",
      "Reaching out to the Community and identifying dependent population\n",
      "\n",
      "Focus on counselling and treatment facilities in hospitals and rehabilitation centres that have been geo-tagged\n",
      "\n",
      "Capacity building programmes for service providers\n",
      "\n",
      "Initiatives\n",
      "\n",
      "The Ministry of Social Justice and Empowerment has been mandated to reduce drug demand. It coordinates and oversees all aspects of drug abuse prevention including assessment of the extent of the problem, preventive action, treatment and rehabilitation of addicts, dissemination of information, and public awareness and is mandated to run de-addiction centres.\n",
      "\n",
      "Nasha Mukt Bharat Abhiyaan is operational with the involvement of more than 500 voluntary organizations across the country, which are assisted financially under the National Action Plan for Drug Demand Reduction (NAPDDR) scheme of the Ministry of Social Justice & Empowerment.\n",
      "\n",
      "These NGOs have been actively involved in the implementation of Drug-Free India campaign. Nearly 8000 youth volunteers and outreach workers of these institutions/organizations have gone from door to door, village to village and nearby localities, etc. to educate the people about the ill effects of drug abuse and have assisted in the rehabilitation of victims of substance abuse.\n",
      "\n",
      "The Nasha Mukt Bharat Abhiyaan website provides detailed information about the Abhiyaan and its activities, gives glimpses through the Photo & video gallery, provides IEC resource material and information on the institutions set up by the Ministry with the aim of Drug Demand reduction.\n",
      "\n",
      "Institutions\n",
      "\n",
      "The Ministry of Social Justice and Empowerment supports organizations that work for preventive education & awareness generation on substance abuse, capacity building, treatment and rehabilitation. These organizations are:\n",
      "\n",
      "\n",
      "\n",
      "\n",
      "\n",
      "Institutions supported by Ministry of Social Justice and Empowerment\n",
      "\n",
      "Integrated Rehabilitation Center For Addicts (IRCAs) : are de-addiction centres with inpatient facilities of counselling and treatment for drug dependent persons\n",
      "\n",
      ": are de-addiction centres with inpatient facilities of counselling and treatment for drug dependent persons Community Peer Led Intervention (CPLI) : work with the community supported by youth volunteers for early preventive education, especially for vulnerable adolescents and youth in the community\n",
      "\n",
      ": work with the community supported by youth volunteers for early preventive education, especially for vulnerable adolescents and youth in the community Outreach And Drop In Centres (ODIC) : provide facilities of screening, assessment and counselling along with providing referral & linkage to treatment and rehabilitation services for drug dependents\n",
      "\n",
      ": provide facilities of screening, assessment and counselling along with providing referral & linkage to treatment and rehabilitation services for drug dependents GEO Location: Ministry supported institutions providing Drug addiction counseling, treatment and rehabilitation and other facilities have been Geo-tagged to make their services accessible and easier to locate\n",
      "\n",
      "Contact Details For details : Visit\n",
      "\n",
      "Related Links\n"
     ]
    }
   ],
   "source": [
    "#get artical url\n",
    "article= Article('https://www.india.gov.in/spotlight/nasha-mukt-bharat-abhiyaan')\n",
    "article.download()\n",
    "article.parse()\n",
    "article.nlp()\n",
    "corpus=article.text\n",
    "#print\n",
    "print(corpus)"
   ]
  },
  {
   "cell_type": "code",
   "execution_count": 52,
   "metadata": {},
   "outputs": [
    {
     "name": "stdout",
     "output_type": "stream",
     "text": [
      "['The Minister for Social Justice & Empowerment Shri Thawaarchand Gehlot launched the website for the Nasha Mukt Bharat Abhiyaan (NMBA) on the occasion of International Day Against Drug Abuse and Illicit Trafficking on 26 June 2021, which is observed worldwide to strengthen action and cooperation in achieving the goal of a sustainable world free of substance abuse.', 'The entire world is facing the menace of drug addiction which has a devastating impact on the addict, individual, family and a large section of society.', 'The launch of Nasha Mukt Bharat Abhiyaan (NMBA) is for 272 Districts across 32 State/Union Territories that have been identified as the most vulnerable in terms of usage of drugs in the country.', 'These vulnerable districts were identified on the basis of findings from the Comprehensive National Survey and the inputs provided by the Narcotics Control Bureau (NCB).', 'According to the National Comprehensive Survey conducted by the Ministry of Social Justice and Empowerment, there are more than 60 million drug users in the country of which a large number of users are in the age group of 10-17 years.', 'Objectives\\n\\nNasha Mukt Bharat Abhiyaan intends to reach out to the masses and spread awareness about substance abuse through various activities like:\\n\\nAwareness generation programmes\\n\\nFocus on higher educational Institutions, university campuses and schools\\n\\nReaching out to the Community and identifying dependent population\\n\\nFocus on counselling and treatment facilities in hospitals and rehabilitation centres that have been geo-tagged\\n\\nCapacity building programmes for service providers\\n\\nInitiatives\\n\\nThe Ministry of Social Justice and Empowerment has been mandated to reduce drug demand.', 'It coordinates and oversees all aspects of drug abuse prevention including assessment of the extent of the problem, preventive action, treatment and rehabilitation of addicts, dissemination of information, and public awareness and is mandated to run de-addiction centres.', 'Nasha Mukt Bharat Abhiyaan is operational with the involvement of more than 500 voluntary organizations across the country, which are assisted financially under the National Action Plan for Drug Demand Reduction (NAPDDR) scheme of the Ministry of Social Justice & Empowerment.', 'These NGOs have been actively involved in the implementation of Drug-Free India campaign.', 'Nearly 8000 youth volunteers and outreach workers of these institutions/organizations have gone from door to door, village to village and nearby localities, etc.', 'to educate the people about the ill effects of drug abuse and have assisted in the rehabilitation of victims of substance abuse.', 'The Nasha Mukt Bharat Abhiyaan website provides detailed information about the Abhiyaan and its activities, gives glimpses through the Photo & video gallery, provides IEC resource material and information on the institutions set up by the Ministry with the aim of Drug Demand reduction.', 'Institutions\\n\\nThe Ministry of Social Justice and Empowerment supports organizations that work for preventive education & awareness generation on substance abuse, capacity building, treatment and rehabilitation.', 'These organizations are:\\n\\n\\n\\n\\n\\nInstitutions supported by Ministry of Social Justice and Empowerment\\n\\nIntegrated Rehabilitation Center For Addicts (IRCAs) : are de-addiction centres with inpatient facilities of counselling and treatment for drug dependent persons\\n\\n: are de-addiction centres with inpatient facilities of counselling and treatment for drug dependent persons Community Peer Led Intervention (CPLI) : work with the community supported by youth volunteers for early preventive education, especially for vulnerable adolescents and youth in the community\\n\\n: work with the community supported by youth volunteers for early preventive education, especially for vulnerable adolescents and youth in the community Outreach And Drop In Centres (ODIC) : provide facilities of screening, assessment and counselling along with providing referral & linkage to treatment and rehabilitation services for drug dependents\\n\\n: provide facilities of screening, assessment and counselling along with providing referral & linkage to treatment and rehabilitation services for drug dependents GEO Location: Ministry supported institutions providing Drug addiction counseling, treatment and rehabilitation and other facilities have been Geo-tagged to make their services accessible and easier to locate\\n\\nContact Details For details : Visit\\n\\nRelated Links']\n"
     ]
    }
   ],
   "source": [
    "#tokenization\n",
    "text=corpus\n",
    "sentence_list=nltk.sent_tokenize(text)\n",
    "print(sentence_list)"
   ]
  },
  {
   "cell_type": "code",
   "execution_count": 53,
   "metadata": {},
   "outputs": [],
   "source": [
    "def greeting_response(text):\n",
    "    text=text.lower()\n",
    "    bot_greetings=['howdy','hi','hello','hola']\n",
    "    user_greetings=['hi','hello','hola','greetings','wassup']\n",
    "    \n",
    "    for word in text.split():\n",
    "        if word in user_greetings:\n",
    "            return random.choice(bot_greetings)"
   ]
  },
  {
   "cell_type": "code",
   "execution_count": 54,
   "metadata": {},
   "outputs": [],
   "source": [
    "def index_sort(list_var):\n",
    "    length=len(list_var)\n",
    "    list_index=list(range(0,length))\n",
    "    x=list_var\n",
    "    for i in range(length):\n",
    "        for j in range(length):\n",
    "            if x[list_index[i]]>x[list_index[j]]:\n",
    "                temp=list_index[i]\n",
    "                list_index[i]=list_index[j]\n",
    "                list_index[j]=temp\n",
    "                \n",
    "    return list_index"
   ]
  },
  {
   "cell_type": "code",
   "execution_count": 55,
   "metadata": {},
   "outputs": [],
   "source": [
    "def bot_response(user_input):\n",
    "    user_input=user_input.lower()\n",
    "    sentence_list.append(user_input)\n",
    "    bot_response=''\n",
    "    cm=CountVectorizer().fit_transform(sentence_list)\n",
    "    similarity_scores=cosine_similarity(cm[-1],cm)\n",
    "    similarity_scores_list=similarity_scores.flatten()\n",
    "    index=index_sort(similarity_scores_list)\n",
    "    index=index[1:]\n",
    "    response_flag=0\n",
    "    \n",
    "    j=0\n",
    "    for i in range(len(index)):\n",
    "        if similarity_scores_list[index[i]]>0.0:\n",
    "            bot_response=bot_response+' '+sentence_list[index[i]]\n",
    "            response_flag=1\n",
    "            j=j+1\n",
    "        if j>2:\n",
    "            break\n",
    "    if response_flag==0:\n",
    "        bot_response=bot_response+' '+\"I don't understand.\"\n",
    "    sentence_list.remove(user_input)\n",
    "    return bot_response\n",
    "        "
   ]
  },
  {
   "cell_type": "code",
   "execution_count": null,
   "metadata": {},
   "outputs": [
    {
     "name": "stdout",
     "output_type": "stream",
     "text": [
      "Bot:Hi i am bot\n",
      "Hi\n",
      "Bot: hola\n"
     ]
    }
   ],
   "source": [
    "print(\"Bot:Hi i am bot\")\n",
    "exit_list=['exit','see you later','bye','break','quit']\n",
    "while(True):\n",
    "    user_input=input()\n",
    "    if user_input.lower() in exit_list:\n",
    "        print(\"Bot:Chat you later!\")\n",
    "        break\n",
    "    else:\n",
    "        if greeting_response(user_input)!=None:\n",
    "            print('Bot: '+greeting_response(user_input))\n",
    "        else:\n",
    "            print('Bot: '+bot_response(user_input))\n",
    "    "
   ]
  },
  {
   "cell_type": "code",
   "execution_count": null,
   "metadata": {},
   "outputs": [],
   "source": []
  },
  {
   "cell_type": "code",
   "execution_count": null,
   "metadata": {},
   "outputs": [],
   "source": []
  }
 ],
 "metadata": {
  "kernelspec": {
   "display_name": "Python 3",
   "language": "python",
   "name": "python3"
  },
  "language_info": {
   "codemirror_mode": {
    "name": "ipython",
    "version": 3
   },
   "file_extension": ".py",
   "mimetype": "text/x-python",
   "name": "python",
   "nbconvert_exporter": "python",
   "pygments_lexer": "ipython3",
   "version": "3.8.5"
  }
 },
 "nbformat": 4,
 "nbformat_minor": 4
}
